{
  "nbformat": 4,
  "nbformat_minor": 0,
  "metadata": {
    "colab": {
      "provenance": []
    },
    "kernelspec": {
      "name": "python3",
      "display_name": "Python 3"
    },
    "language_info": {
      "name": "python"
    }
  },
  "cells": [
    {
      "cell_type": "code",
      "execution_count": 1,
      "metadata": {
        "id": "YHrYFeG0uwog"
      },
      "outputs": [],
      "source": [
        "import numpy as np\n",
        "import scipy.stats as stats"
      ]
    },
    {
      "cell_type": "code",
      "source": [
        "old_mean = 901  # Average weight of hammers in the old system\n",
        "old_std = 26  # Standard deviation in the old system\n",
        "old_var = old_std ** 2  # Variance in the old system"
      ],
      "metadata": {
        "id": "oZHPx4OvvRh0"
      },
      "execution_count": 2,
      "outputs": []
    },
    {
      "cell_type": "markdown",
      "source": [
        "New system examples:"
      ],
      "metadata": {
        "id": "rris-g55uDUg"
      }
    },
    {
      "cell_type": "code",
      "source": [
        "new_weights = np.array([923, 863, 964, 938, 862, 919, 953, 893, 756, 876])\n",
        "n = len(new_weights)  # Number of samples"
      ],
      "metadata": {
        "id": "KalvYmTjuPZO"
      },
      "execution_count": 3,
      "outputs": []
    },
    {
      "cell_type": "markdown",
      "source": [
        "Sample variance in the new system:"
      ],
      "metadata": {
        "id": "CJevUTrcuwoz"
      }
    },
    {
      "cell_type": "code",
      "source": [
        "new_var = np.var(new_weights, ddof=1)"
      ],
      "metadata": {
        "id": "KpzQyuMNu7an"
      },
      "execution_count": 4,
      "outputs": []
    },
    {
      "cell_type": "markdown",
      "source": [
        "Chi-Square:"
      ],
      "metadata": {
        "id": "9PaHVKGcvgE1"
      }
    },
    {
      "cell_type": "code",
      "source": [
        "chi_square_stat = (n - 1) * new_var / old_var"
      ],
      "metadata": {
        "id": "8In7LJlaviTS"
      },
      "execution_count": 5,
      "outputs": []
    },
    {
      "cell_type": "markdown",
      "source": [
        "Critical value of the chi-square distribution for a 95% confidence level:"
      ],
      "metadata": {
        "id": "W8L2zusGvstw"
      }
    },
    {
      "cell_type": "code",
      "source": [
        "alpha = 0.05\n",
        "critical_value = stats.chi2.ppf(1 - alpha, df=n - 1)"
      ],
      "metadata": {
        "id": "G2Zsn3uWvwXl"
      },
      "execution_count": 6,
      "outputs": []
    },
    {
      "cell_type": "markdown",
      "source": [
        "Conclusion:"
      ],
      "metadata": {
        "id": "Eb81PHpfv5Yd"
      }
    },
    {
      "cell_type": "code",
      "source": [
        "if chi_square_stat > critical_value:\n",
        "    result = \"The null hypothesis is rejected: the variance has increased.\"\n",
        "else:\n",
        "    result = \"The null hypothesis is not rejected: there is no significant change in variance.\""
      ],
      "metadata": {
        "id": "wzks3hfQv9qA"
      },
      "execution_count": 7,
      "outputs": []
    },
    {
      "cell_type": "markdown",
      "source": [
        "Show results:"
      ],
      "metadata": {
        "id": "FJr21ydGwc06"
      }
    },
    {
      "cell_type": "code",
      "source": [
        "print(f\"Variance in the old system: {old_var:.2f}\")\n",
        "print(f\"Variance in the new system: {new_var:.2f}\")\n",
        "print(f\"Chi-square test statistic: {chi_square_stat:.2f}\")\n",
        "print(f\"Critical value (95%): {critical_value:.2f}\")\n",
        "print(f\"Test result: {result}\")\n"
      ],
      "metadata": {
        "colab": {
          "base_uri": "https://localhost:8080/"
        },
        "id": "jA-76h0RwfkD",
        "outputId": "17ed94d2-424b-48f6-b2ea-aa0626ed010a"
      },
      "execution_count": 8,
      "outputs": [
        {
          "output_type": "stream",
          "name": "stdout",
          "text": [
            "Variance in the old system: 676.00\n",
            "Variance in the new system: 3681.34\n",
            "Chi-square test statistic: 49.01\n",
            "Critical value (95%): 16.92\n",
            "Test result: The null hypothesis is rejected: the variance has increased.\n"
          ]
        }
      ]
    }
  ]
}